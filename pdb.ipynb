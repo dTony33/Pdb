{
  "nbformat": 4,
  "nbformat_minor": 0,
  "metadata": {
    "colab": {
      "name": "pdb.ipynb",
      "provenance": [],
      "authorship_tag": "ABX9TyN5qBqRD2+NAqxBal1BvrdW",
      "include_colab_link": true
    },
    "kernelspec": {
      "name": "python3",
      "display_name": "Python 3"
    },
    "language_info": {
      "name": "python"
    }
  },
  "cells": [
    {
      "cell_type": "markdown",
      "metadata": {
        "id": "view-in-github",
        "colab_type": "text"
      },
      "source": [
        "<a href=\"https://colab.research.google.com/github/dTony33/Pdb/blob/master/pdb.ipynb\" target=\"_parent\"><img src=\"https://colab.research.google.com/assets/colab-badge.svg\" alt=\"Open In Colab\"/></a>"
      ]
    },
    {
      "cell_type": "code",
      "metadata": {
        "colab": {
          "base_uri": "https://localhost:8080/"
        },
        "id": "94wCk3IOGySy",
        "outputId": "5b3156d7-9fdf-46c2-96d5-a4cf47f69131"
      },
      "source": [
        "!pip install Levenshtein"
      ],
      "execution_count": 1,
      "outputs": [
        {
          "output_type": "stream",
          "name": "stdout",
          "text": [
            "Requirement already satisfied: Levenshtein in /usr/local/lib/python3.7/dist-packages (0.16.0)\n",
            "Requirement already satisfied: rapidfuzz<1.9,>=1.8.2 in /usr/local/lib/python3.7/dist-packages (from Levenshtein) (1.8.3)\n"
          ]
        }
      ]
    },
    {
      "cell_type": "code",
      "metadata": {
        "id": "FdJ_0229GkVB"
      },
      "source": [
        "import re\n",
        "import string\n",
        "import sys\n",
        "import heapq\n",
        "import logging\n",
        "import pandas as pd\n",
        "\n",
        "from functools import partial\n",
        "from Levenshtein import *\n",
        "\n",
        "class StringMatcher:\n",
        "\n",
        "    def _reset_cache(self):\n",
        "        self._ratio = self._distance = None\n",
        "        self._opcodes = self._editops = self._matching_blocks = None\n",
        "\n",
        "    def __init__(self, isjunk=None, seq1='', seq2=''):\n",
        "        if isjunk:\n",
        "            warn(\"isjunk not NOT implemented, it will be ignored\")\n",
        "        self._str1, self._str2 = seq1, seq2\n",
        "        self._reset_cache()\n",
        "\n",
        "    def set_seqs(self, seq1, seq2):\n",
        "        self._str1, self._str2 = seq1, seq2\n",
        "        self._reset_cache()\n",
        "\n",
        "    def set_seq1(self, seq1):\n",
        "        self._str1 = seq1\n",
        "        self._reset_cache()\n",
        "\n",
        "    def set_seq2(self, seq2):\n",
        "        self._str2 = seq2\n",
        "        self._reset_cache()\n",
        "\n",
        "    def ratio(self):\n",
        "      if not self._ratio:\n",
        "        self._ratio = ratio(self._str1, self._str2)\n",
        "      return self._ratio    \n",
        "\n",
        "    def get_matching_blocks(self):\n",
        "      if not self._matching_blocks:\n",
        "        self._matching_blocks = matching_blocks(self.get_opcodes(),self._str1, self._str2)  "
      ],
      "execution_count": 54,
      "outputs": []
    },
    {
      "cell_type": "code",
      "metadata": {
        "id": "ix0GoCX9GtPB"
      },
      "source": [
        "\n",
        "df = pd.read_csv('/content/bookings_data.csv')"
      ],
      "execution_count": 55,
      "outputs": []
    },
    {
      "cell_type": "code",
      "source": [
        "def partial_ratio(s1, s2):\n",
        "\n",
        "    s1, s2 = utils.make_type_consistent(s1, s2)\n",
        "\n",
        "    if len(s1) <= len(s2):\n",
        "        shorter = s1\n",
        "        longer = s2\n",
        "    else:\n",
        "        shorter = s2\n",
        "        longer = s1\n",
        "\n",
        "    blocks = get_matching_blocks(None, shorter, longer)\n",
        "    # blocks = m.get_matching_blocks()\n",
        "\n",
        "    scores = []\n",
        "    for block in blocks:\n",
        "        long_start = block[1] - block[0] if (block[1] - block[0]) > 0 else 0\n",
        "        long_end = long_start + len(shorter)\n",
        "        long_substr = longer[long_start:long_end]\n",
        "\n",
        "        m2 = SequenceMatcher(None, shorter, long_substr)\n",
        "        r = m2.ratio()\n",
        "        if r > .995:\n",
        "            return 100\n",
        "        else:\n",
        "            scores.append(r)\n",
        "\n",
        "    return utils.intr(100 * max(scores))"
      ],
      "metadata": {
        "id": "TFDN_zjGB4La"
      },
      "execution_count": 82,
      "outputs": []
    },
    {
      "cell_type": "code",
      "metadata": {
        "id": "CbNSjTbqdCEM"
      },
      "source": [
        "confidenceLevels = pd.DataFrame({\n",
        "    'wordLength' : [1,2,3,4,5,6,7,8,9,10], \n",
        "    'minRatio' : [100,100,100,100,80,80,80,80,75,75]\n",
        "})"
      ],
      "execution_count": 83,
      "outputs": []
    },
    {
      "cell_type": "code",
      "metadata": {
        "id": "TlOzVC46eVGY"
      },
      "source": [
        ""
      ],
      "execution_count": 83,
      "outputs": []
    },
    {
      "cell_type": "code",
      "metadata": {
        "id": "jhtuJjecGxpx"
      },
      "source": [
        "class StringProcessor(object):\n",
        "  regex = re.compile(r\"(?ui)\\W\")\n",
        "  @classmethod\n",
        "  def replace_non_letters_non_numbers_with_whitespace(cls, a_string):\n",
        "    \n",
        "    return cls.regex.sub(\" \", a_string)\n",
        "\n",
        "    strip = staticmethod(string.strip)\n",
        "    to_lower_case = staticmethod(string.lower)\n",
        "    to_upper_case = staticmethod(string.upper)"
      ],
      "execution_count": 84,
      "outputs": []
    },
    {
      "cell_type": "code",
      "metadata": {
        "id": "GNMFC3VJXIG5"
      },
      "source": [
        "def asciidammit(s):\n",
        "    if type(s) is str:\n",
        "        return asciionly(s)\n",
        "    elif type(s) is unicode:\n",
        "        return asciionly(s.encode('ascii', 'ignore'))\n",
        "    else:\n",
        "        return asciidammit(unicode(s))"
      ],
      "execution_count": 85,
      "outputs": []
    },
    {
      "cell_type": "code",
      "source": [
        ""
      ],
      "metadata": {
        "id": "zgDh2JGFAn7X"
      },
      "execution_count": 85,
      "outputs": []
    },
    {
      "cell_type": "code",
      "metadata": {
        "id": "XQfndV-zW0FV"
      },
      "source": [
        "def full_process(s, force_ascii=False):\n",
        "  if force_ascii:\n",
        "    s = asciidammit(s)\n",
        "    # Keep only Letters and Numbers (see Unicode docs).\n",
        "  string_out = StringProcessor.replace_non_letters_non_numbers_with_whitespace(s)\n",
        "    # Force into lowercase.\n",
        "  string_out = StringProcessor.to_lower_case(string_out)\n",
        "    # Remove leading and trailing whitespaces.\n",
        "  string_out = StringProcessor.strip(string_out)\n",
        "  return string_out"
      ],
      "execution_count": 86,
      "outputs": []
    },
    {
      "cell_type": "code",
      "source": [
        "def validate_string(s):\n",
        "    try:\n",
        "        return len(s) > 0\n",
        "    except TypeError:\n",
        "        return False"
      ],
      "metadata": {
        "id": "7Uh1nS6lAKGq"
      },
      "execution_count": 87,
      "outputs": []
    },
    {
      "cell_type": "code",
      "source": [
        "def _token_set(s1, s2, partial=True, force_ascii=True, full_process=True):\n",
        "\n",
        "    if not full_process and s1 == s2:\n",
        "        return 100\n",
        "\n",
        "    p1 = full_process(s1, force_ascii=force_ascii) if full_process else s1\n",
        "    p2 = full_process(s2, force_ascii=force_ascii) if full_process else s2\n",
        "\n",
        "    if not validate_string(p1):\n",
        "        return 0\n",
        "    if not validate_string(p2):\n",
        "        return 0\n",
        "\n",
        "    # pull tokens\n",
        "    tokens1 = set(p1.split())\n",
        "    tokens2 = set(p2.split())\n",
        "\n",
        "    intersection = tokens1.intersection(tokens2)\n",
        "    diff1to2 = tokens1.difference(tokens2)\n",
        "    diff2to1 = tokens2.difference(tokens1)\n",
        "\n",
        "    sorted_sect = \" \".join(sorted(intersection))\n",
        "    sorted_1to2 = \" \".join(sorted(diff1to2))\n",
        "    sorted_2to1 = \" \".join(sorted(diff2to1))\n",
        "\n",
        "    combined_1to2 = sorted_sect + \" \" + sorted_1to2\n",
        "    combined_2to1 = sorted_sect + \" \" + sorted_2to1\n",
        "\n",
        "    # strip\n",
        "    sorted_sect = sorted_sect.strip()\n",
        "    combined_1to2 = combined_1to2.strip()\n",
        "    combined_2to1 = combined_2to1.strip()\n",
        "\n",
        "    if partial:\n",
        "        ratio_func = partial_ratio\n",
        "    else:\n",
        "        ratio_func = ratio\n",
        "\n",
        "    pairwise = [\n",
        "        ratio_func(sorted_sect, combined_1to2),\n",
        "        ratio_func(sorted_sect, combined_2to1),\n",
        "        ratio_func(combined_1to2, combined_2to1)\n",
        "    ]\n",
        "    return max(pairwise)\n",
        "\n",
        "\n",
        "def token_set_ratio(s1, s2, force_ascii=True, full_process=True):\n",
        "    return _token_set(s1, s2, partial=False, force_ascii=force_ascii, full_process=full_process)"
      ],
      "metadata": {
        "id": "_Fl0-dzw_qXf"
      },
      "execution_count": 88,
      "outputs": []
    },
    {
      "cell_type": "code",
      "metadata": {
        "id": "HAdJ9RrKI9nq"
      },
      "source": [
        "def cal_ratio(s1, s2):\n",
        "    # s1, s2 = utils.make_type_consistent(s1, s2)\n",
        "\n",
        "    m = ratio(s1, s2)\n",
        "    return round(100 * m)"
      ],
      "execution_count": 89,
      "outputs": []
    },
    {
      "cell_type": "code",
      "metadata": {
        "colab": {
          "base_uri": "https://localhost:8080/"
        },
        "id": "JGCBjCKFK2h_",
        "outputId": "b54edd66-13af-41b5-9d2c-b28a7f8bc7b9"
      },
      "source": [
        "cal_ratio('fuzzy wuzzy was a bear','wuzzy fuzzy was a bear')"
      ],
      "execution_count": 90,
      "outputs": [
        {
          "output_type": "execute_result",
          "data": {
            "text/plain": [
              "91"
            ]
          },
          "metadata": {},
          "execution_count": 90
        }
      ]
    },
    {
      "cell_type": "code",
      "metadata": {
        "id": "-cZpPvnQK5n-"
      },
      "source": [
        "def extractWithoutOrder(query, choices, scorer, score_cutoff=0):\n",
        "    def no_process(x):\n",
        "        return x\n",
        "    processed_query = query\n",
        "    pre_processor = no_process\n",
        "    scorer = partial(scorer)\n",
        "    try:\n",
        "        # See if choices is a dictionary-like object.\n",
        "        for key, choice in choices.items():\n",
        "            processed = pre_processor(choice)\n",
        "            score = scorer(processed_query, processed)\n",
        "            if score >= score_cutoff:\n",
        "                yield (choice, score, key)\n",
        "    except AttributeError:\n",
        "        # It's a list; just iterate over it.\n",
        "        for choice in choices:\n",
        "            processed = pre_processor(choice)\n",
        "            score = scorer(processed_query, processed)\n",
        "            if score >= score_cutoff:\n",
        "                yield (choice, score)\n",
        "def extractOne(query, choices,  scorer, score_cutoff=0):\n",
        "\n",
        "    best_list = extractWithoutOrder(query, choices, scorer, score_cutoff)\n",
        "    try:\n",
        "        return max(best_list, key=lambda i: i[1])\n",
        "    except ValueError:\n",
        "        return None                "
      ],
      "execution_count": 91,
      "outputs": []
    },
    {
      "cell_type": "code",
      "metadata": {
        "id": "KqFSW-z2as5G"
      },
      "source": [
        "def FuzzyED(token = None, confidence_levels = True, default_level = 85):\n",
        "    assert isinstance(token, str), \"Tokens can be str() type only\"\n",
        "    if confidence_levels:\n",
        "        for i, row in confidenceLevels.iterrows():\n",
        "            if len(token) > confidenceLevels['wordLength'].max():\n",
        "                min_ratio = confidenceLevels['minRatio'].min()\n",
        "            else:\n",
        "                min_ratio = confidenceLevels.loc[confidenceLevels['wordLength'] == len(token)]['minRatio'].values[0]\n",
        "    else:\n",
        "        min_ratio = default_level\n",
        "    # print(min_ratio)    \n",
        "    return int(min_ratio)"
      ],
      "execution_count": 92,
      "outputs": []
    },
    {
      "cell_type": "code",
      "metadata": {
        "id": "IqnC41pHg6Oq"
      },
      "source": [
        "def Similarity(token = None, dictionary = None, min_ratio = None):\n",
        "    assert isinstance(token, str)\n",
        "    assert isinstance(dictionary, dict) \n",
        "    assert isinstance(min_ratio, int)\n",
        "    for key, values in dictionary.items():\n",
        "        match = extractOne(token, values, scorer = cal_ratio)\n",
        "        if min_ratio <= match[1]:\n",
        "            return (match + (key, ))"
      ],
      "execution_count": 93,
      "outputs": []
    },
    {
      "cell_type": "code",
      "metadata": {
        "colab": {
          "base_uri": "https://localhost:8080/"
        },
        "id": "AVhk2iNAhCRf",
        "outputId": "e1951da1-a04f-45d9-dd43-01d509985f83"
      },
      "source": [
        "tokens = [\"insurence\", \"party\", \"libertey\"]\n",
        "dictionary = {\n",
        "    'category1' : ['insurance', 'policies', 'worldbank'],\n",
        "    'category2' : ['liberty', 'freedom', 'helloworld', 'house']\n",
        "}\n",
        "\n",
        "for token in tokens:\n",
        "    fuzzy_ratio = FuzzyED(token = token, confidence_levels = True)\n",
        "    similarity_score = Similarity(token = token, dictionary = dictionary, min_ratio = fuzzy_ratio)\n",
        "    if not similarity_score == None:\n",
        "        print(\"'\" + token + \"'\" + \" matches with \" + str(similarity_score[0]) + \"[\" + similarity_score[2] + \"]\" + \" with a score of: \" + str(similarity_score[1]))"
      ],
      "execution_count": 94,
      "outputs": [
        {
          "output_type": "stream",
          "name": "stdout",
          "text": [
            "'insurence' matches with insurance[category1] with a score of: 89\n",
            "'libertey' matches with liberty[category2] with a score of: 93\n"
          ]
        }
      ]
    },
    {
      "cell_type": "code",
      "metadata": {
        "colab": {
          "base_uri": "https://localhost:8080/"
        },
        "id": "V3iqJPH2hIhQ",
        "outputId": "72ae4f52-6e1c-4a73-e847-3c489fe39672"
      },
      "source": [
        "choices = [\"Atlanta Falcons\", \"New York Jets\", \"New York Giants\", \"Dallas Cowboys\"]\n",
        "extractOne('cowboys',choices,cal_ratio,2)"
      ],
      "execution_count": 95,
      "outputs": [
        {
          "output_type": "execute_result",
          "data": {
            "text/plain": [
              "('Dallas Cowboys', 57)"
            ]
          },
          "metadata": {},
          "execution_count": 95
        }
      ]
    },
    {
      "cell_type": "code",
      "source": [
        "def get_ratio(row):\n",
        "    name = row['Expedia']\n",
        "    name1 = row['Booking.com']\n",
        "    return cal_ratio(name, name1)\n",
        "\n",
        "df[df.apply(get_ratio, axis=1) > 70].head(10)"
      ],
      "metadata": {
        "colab": {
          "base_uri": "https://localhost:8080/",
          "height": 363
        },
        "id": "NVZ8TlK8x-Tx",
        "outputId": "d22cfff8-16fb-43fa-a4fb-bf850b90dbd7"
      },
      "execution_count": 98,
      "outputs": [
        {
          "output_type": "execute_result",
          "data": {
            "text/html": [
              "<div>\n",
              "<style scoped>\n",
              "    .dataframe tbody tr th:only-of-type {\n",
              "        vertical-align: middle;\n",
              "    }\n",
              "\n",
              "    .dataframe tbody tr th {\n",
              "        vertical-align: top;\n",
              "    }\n",
              "\n",
              "    .dataframe thead th {\n",
              "        text-align: right;\n",
              "    }\n",
              "</style>\n",
              "<table border=\"1\" class=\"dataframe\">\n",
              "  <thead>\n",
              "    <tr style=\"text-align: right;\">\n",
              "      <th></th>\n",
              "      <th>Expedia</th>\n",
              "      <th>Booking.com</th>\n",
              "    </tr>\n",
              "  </thead>\n",
              "  <tbody>\n",
              "    <tr>\n",
              "      <th>2</th>\n",
              "      <td>Grand Corner King Room, 1 King Bed</td>\n",
              "      <td>Grand Corner King Room</td>\n",
              "    </tr>\n",
              "    <tr>\n",
              "      <th>4</th>\n",
              "      <td>High-Floor Premium Room, 1 King Bed</td>\n",
              "      <td>High-Floor Premium King Room</td>\n",
              "    </tr>\n",
              "    <tr>\n",
              "      <th>9</th>\n",
              "      <td>Room, 2 Double Beds (19th to 25th Floors)</td>\n",
              "      <td>Two Double Beds - Location Room (19th to 25th ...</td>\n",
              "    </tr>\n",
              "    <tr>\n",
              "      <th>11</th>\n",
              "      <td>Deluxe Room</td>\n",
              "      <td>Deluxe Double Room</td>\n",
              "    </tr>\n",
              "    <tr>\n",
              "      <th>13</th>\n",
              "      <td>Signature Room, 2 Queen Beds</td>\n",
              "      <td>Signature Two Queen</td>\n",
              "    </tr>\n",
              "    <tr>\n",
              "      <th>19</th>\n",
              "      <td>Club Room, Premium 2 Queen Beds</td>\n",
              "      <td>Club Premium Two Queen</td>\n",
              "    </tr>\n",
              "    <tr>\n",
              "      <th>25</th>\n",
              "      <td>Deluxe Room, 1 King Bed</td>\n",
              "      <td>Deluxe Room - One King Bed</td>\n",
              "    </tr>\n",
              "    <tr>\n",
              "      <th>26</th>\n",
              "      <td>Deluxe Room, 2 Queen Beds</td>\n",
              "      <td>Deluxe Room - Two Queen Beds</td>\n",
              "    </tr>\n",
              "    <tr>\n",
              "      <th>45</th>\n",
              "      <td>Business Double Room, 2 Double Beds</td>\n",
              "      <td>Business Double Room With Two Double Beds</td>\n",
              "    </tr>\n",
              "    <tr>\n",
              "      <th>46</th>\n",
              "      <td>Room, 2 Queen Beds, City View</td>\n",
              "      <td>Queen Room With Two Queen Beds and City View</td>\n",
              "    </tr>\n",
              "  </tbody>\n",
              "</table>\n",
              "</div>"
            ],
            "text/plain": [
              "                                      Expedia                                        Booking.com\n",
              "2          Grand Corner King Room, 1 King Bed                             Grand Corner King Room\n",
              "4         High-Floor Premium Room, 1 King Bed                       High-Floor Premium King Room\n",
              "9   Room, 2 Double Beds (19th to 25th Floors)  Two Double Beds - Location Room (19th to 25th ...\n",
              "11                                Deluxe Room                                 Deluxe Double Room\n",
              "13               Signature Room, 2 Queen Beds                                Signature Two Queen\n",
              "19            Club Room, Premium 2 Queen Beds                             Club Premium Two Queen\n",
              "25                    Deluxe Room, 1 King Bed                         Deluxe Room - One King Bed\n",
              "26                  Deluxe Room, 2 Queen Beds                       Deluxe Room - Two Queen Beds\n",
              "45        Business Double Room, 2 Double Beds          Business Double Room With Two Double Beds\n",
              "46              Room, 2 Queen Beds, City View       Queen Room With Two Queen Beds and City View"
            ]
          },
          "metadata": {},
          "execution_count": 98
        }
      ]
    },
    {
      "cell_type": "code",
      "metadata": {
        "id": "BNIEyK_moHit"
      },
      "source": [
        "score = len(df[df.apply(get_ratio, axis=1) > 70]) / len(df)"
      ],
      "execution_count": 80,
      "outputs": []
    },
    {
      "cell_type": "code",
      "source": [
        "score"
      ],
      "metadata": {
        "colab": {
          "base_uri": "https://localhost:8080/"
        },
        "id": "i_GjqClZ0oA1",
        "outputId": "8d54ccc6-b3b5-4f85-b4e0-fdf2516446e8"
      },
      "execution_count": 77,
      "outputs": [
        {
          "output_type": "execute_result",
          "data": {
            "text/plain": [
              "0.22330097087378642"
            ]
          },
          "metadata": {},
          "execution_count": 77
        }
      ]
    },
    {
      "cell_type": "code",
      "source": [
        ""
      ],
      "metadata": {
        "id": "MR6VqS3-0o6D"
      },
      "execution_count": 98,
      "outputs": []
    },
    {
      "cell_type": "code",
      "source": [
        ""
      ],
      "metadata": {
        "id": "WgWcC15HCV-I"
      },
      "execution_count": null,
      "outputs": []
    }
  ]
}