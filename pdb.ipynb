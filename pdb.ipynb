{
  "nbformat": 4,
  "nbformat_minor": 0,
  "metadata": {
    "colab": {
      "name": "pdb.ipynb",
      "provenance": [],
      "authorship_tag": "ABX9TyOBVAuBem78+dSkWH4Pg90R",
      "include_colab_link": true
    },
    "kernelspec": {
      "name": "python3",
      "display_name": "Python 3"
    },
    "language_info": {
      "name": "python"
    }
  },
  "cells": [
    {
      "cell_type": "markdown",
      "metadata": {
        "id": "view-in-github",
        "colab_type": "text"
      },
      "source": [
        "<a href=\"https://colab.research.google.com/github/dTony33/Pdb/blob/master/pdb.ipynb\" target=\"_parent\"><img src=\"https://colab.research.google.com/assets/colab-badge.svg\" alt=\"Open In Colab\"/></a>"
      ]
    },
    {
      "cell_type": "code",
      "metadata": {
        "colab": {
          "base_uri": "https://localhost:8080/"
        },
        "id": "94wCk3IOGySy",
        "outputId": "b7792997-3488-47ea-da13-50f788162c36"
      },
      "source": [
        "!pip install Levenshtein"
      ],
      "execution_count": 99,
      "outputs": [
        {
          "output_type": "stream",
          "name": "stdout",
          "text": [
            "Requirement already satisfied: Levenshtein in /usr/local/lib/python3.7/dist-packages (0.16.0)\n",
            "Requirement already satisfied: rapidfuzz<1.9,>=1.8.2 in /usr/local/lib/python3.7/dist-packages (from Levenshtein) (1.8.3)\n"
          ]
        }
      ]
    },
    {
      "cell_type": "code",
      "metadata": {
        "id": "FdJ_0229GkVB"
      },
      "source": [
        "import re\n",
        "import string\n",
        "import sys\n",
        "import heapq\n",
        "import logging\n",
        "import pandas as pd\n",
        "\n",
        "from functools import partial\n",
        "from Levenshtein import *\n",
        "\n",
        "class StringMatcher:\n",
        "\n",
        "    def _reset_cache(self):\n",
        "        self._ratio = self._distance = None\n",
        "        self._opcodes = self._editops = self._matching_blocks = None\n",
        "\n",
        "    def __init__(self, isjunk=None, seq1='', seq2=''):\n",
        "        if isjunk:\n",
        "            warn(\"isjunk not NOT implemented, it will be ignored\")\n",
        "        self._str1, self._str2 = seq1, seq2\n",
        "        self._reset_cache()\n",
        "\n",
        "    def set_seqs(self, seq1, seq2):\n",
        "        self._str1, self._str2 = seq1, seq2\n",
        "        self._reset_cache()\n",
        "\n",
        "    def set_seq1(self, seq1):\n",
        "        self._str1 = seq1\n",
        "        self._reset_cache()\n",
        "\n",
        "    def set_seq2(self, seq2):\n",
        "        self._str2 = seq2\n",
        "        self._reset_cache()\n",
        "\n",
        "    def ratio(self):\n",
        "      if not self._ratio:\n",
        "        self._ratio = ratio(self._str1, self._str2)\n",
        "      return self._ratio    \n",
        "\n",
        "    def get_matching_blocks(self):\n",
        "      if not self._matching_blocks:\n",
        "        self._matching_blocks = matching_blocks(self.get_opcodes(),self._str1, self._str2)  "
      ],
      "execution_count": 100,
      "outputs": []
    },
    {
      "cell_type": "code",
      "metadata": {
        "id": "ix0GoCX9GtPB"
      },
      "source": [
        "\n",
        "df = pd.read_csv('/content/bookings_data.csv')"
      ],
      "execution_count": 101,
      "outputs": []
    },
    {
      "cell_type": "code",
      "source": [
        ""
      ],
      "metadata": {
        "id": "TFDN_zjGB4La"
      },
      "execution_count": 101,
      "outputs": []
    },
    {
      "cell_type": "code",
      "metadata": {
        "id": "CbNSjTbqdCEM"
      },
      "source": [
        "confidenceLevels = pd.DataFrame({\n",
        "    'wordLength' : [1,2,3,4,5,6,7,8,9,10], \n",
        "    'minRatio' : [100,100,100,100,80,80,80,80,75,75]\n",
        "})"
      ],
      "execution_count": 102,
      "outputs": []
    },
    {
      "cell_type": "code",
      "metadata": {
        "id": "TlOzVC46eVGY"
      },
      "source": [
        ""
      ],
      "execution_count": 102,
      "outputs": []
    },
    {
      "cell_type": "code",
      "metadata": {
        "id": "jhtuJjecGxpx"
      },
      "source": [
        "class StringProcessor(object):\n",
        "  regex = re.compile(r\"(?ui)\\W\")\n",
        "  @classmethod\n",
        "  def replace_non_letters_non_numbers_with_whitespace(cls, a_string):\n",
        "    \n",
        "    return cls.regex.sub(\" \", a_string)\n",
        "\n",
        "    strip = staticmethod(string.strip)\n",
        "    to_lower_case = staticmethod(string.lower)\n",
        "    to_upper_case = staticmethod(string.upper)"
      ],
      "execution_count": 103,
      "outputs": []
    },
    {
      "cell_type": "code",
      "metadata": {
        "id": "GNMFC3VJXIG5"
      },
      "source": [
        "def asciidammit(s):\n",
        "    if type(s) is str:\n",
        "        return asciionly(s)\n",
        "    elif type(s) is unicode:\n",
        "        return asciionly(s.encode('ascii', 'ignore'))\n",
        "    else:\n",
        "        return asciidammit(unicode(s))"
      ],
      "execution_count": 104,
      "outputs": []
    },
    {
      "cell_type": "code",
      "source": [
        ""
      ],
      "metadata": {
        "id": "zgDh2JGFAn7X"
      },
      "execution_count": 104,
      "outputs": []
    },
    {
      "cell_type": "code",
      "metadata": {
        "id": "XQfndV-zW0FV"
      },
      "source": [
        "def full_process(s, force_ascii=False):\n",
        "  if force_ascii:\n",
        "    s = asciidammit(s)\n",
        "  string_out = StringProcessor.replace_non_letters_non_numbers_with_whitespace(s)\n",
        "  string_out = StringProcessor.to_lower_case(string_out)\n",
        "  string_out = StringProcessor.strip(string_out)\n",
        "  return string_out"
      ],
      "execution_count": 106,
      "outputs": []
    },
    {
      "cell_type": "code",
      "source": [
        "def validate_string(s):\n",
        "    try:\n",
        "        return len(s) > 0\n",
        "    except TypeError:\n",
        "        return False"
      ],
      "metadata": {
        "id": "7Uh1nS6lAKGq"
      },
      "execution_count": 107,
      "outputs": []
    },
    {
      "cell_type": "code",
      "source": [
        ""
      ],
      "metadata": {
        "id": "_Fl0-dzw_qXf"
      },
      "execution_count": 107,
      "outputs": []
    },
    {
      "cell_type": "code",
      "metadata": {
        "id": "HAdJ9RrKI9nq"
      },
      "source": [
        "def cal_ratio(s1, s2):\n",
        "\n",
        "    m = ratio(s1, s2)\n",
        "    return round(100 * m)"
      ],
      "execution_count": 109,
      "outputs": []
    },
    {
      "cell_type": "code",
      "metadata": {
        "colab": {
          "base_uri": "https://localhost:8080/"
        },
        "id": "JGCBjCKFK2h_",
        "outputId": "08a67edc-0eac-40be-834d-0cb961497a3c"
      },
      "source": [
        "cal_ratio('fuzzy wuzzy was a bear','wuzzy fuzzy was a bear')"
      ],
      "execution_count": 110,
      "outputs": [
        {
          "output_type": "execute_result",
          "data": {
            "text/plain": [
              "91"
            ]
          },
          "metadata": {},
          "execution_count": 110
        }
      ]
    },
    {
      "cell_type": "code",
      "metadata": {
        "id": "-cZpPvnQK5n-"
      },
      "source": [
        "def extractWithoutOrder(query, choices, scorer, score_cutoff=0):\n",
        "    def no_process(x):\n",
        "        return x\n",
        "    processed_query = query\n",
        "    pre_processor = no_process\n",
        "    scorer = partial(scorer)\n",
        "    try:\n",
        "        # See if choices is a dictionary-like object.\n",
        "        for key, choice in choices.items():\n",
        "            processed = pre_processor(choice)\n",
        "            score = scorer(processed_query, processed)\n",
        "            if score >= score_cutoff:\n",
        "                yield (choice, score, key)\n",
        "    except AttributeError:\n",
        "        # It's a list; just iterate over it.\n",
        "        for choice in choices:\n",
        "            processed = pre_processor(choice)\n",
        "            score = scorer(processed_query, processed)\n",
        "            if score >= score_cutoff:\n",
        "                yield (choice, score)\n",
        "def extractOne(query, choices,  scorer, score_cutoff=0):\n",
        "\n",
        "    best_list = extractWithoutOrder(query, choices, scorer, score_cutoff)\n",
        "    try:\n",
        "        return max(best_list, key=lambda i: i[1])\n",
        "    except ValueError:\n",
        "        return None                "
      ],
      "execution_count": 111,
      "outputs": []
    },
    {
      "cell_type": "code",
      "metadata": {
        "id": "KqFSW-z2as5G"
      },
      "source": [
        "def FuzzyED(token = None, confidence_levels = True, default_level = 85):\n",
        "    assert isinstance(token, str), \"Tokens can be str() type only\"\n",
        "    if confidence_levels:\n",
        "        for i, row in confidenceLevels.iterrows():\n",
        "            if len(token) > confidenceLevels['wordLength'].max():\n",
        "                min_ratio = confidenceLevels['minRatio'].min()\n",
        "            else:\n",
        "                min_ratio = confidenceLevels.loc[confidenceLevels['wordLength'] == len(token)]['minRatio'].values[0]\n",
        "    else:\n",
        "        min_ratio = default_level\n",
        "    # print(min_ratio)    \n",
        "    return int(min_ratio)"
      ],
      "execution_count": 112,
      "outputs": []
    },
    {
      "cell_type": "code",
      "metadata": {
        "id": "IqnC41pHg6Oq"
      },
      "source": [
        "def Similarity(token = None, dictionary = None, min_ratio = None):\n",
        "    assert isinstance(token, str)\n",
        "    assert isinstance(dictionary, dict) \n",
        "    assert isinstance(min_ratio, int)\n",
        "    for key, values in dictionary.items():\n",
        "        match = extractOne(token, values, scorer = cal_ratio)\n",
        "        if min_ratio <= match[1]:\n",
        "            return (match + (key, ))"
      ],
      "execution_count": 113,
      "outputs": []
    },
    {
      "cell_type": "code",
      "metadata": {
        "colab": {
          "base_uri": "https://localhost:8080/"
        },
        "id": "AVhk2iNAhCRf",
        "outputId": "0f903888-aaa7-42a5-a054-a8467d196dfe"
      },
      "source": [
        "tokens = [\"insurence\", \"party\", \"libertey\"]\n",
        "dictionary = {\n",
        "    'category1' : ['insurance', 'policies', 'worldbank'],\n",
        "    'category2' : ['liberty', 'freedom', 'helloworld', 'house']\n",
        "}\n",
        "\n",
        "for token in tokens:\n",
        "    fuzzy_ratio = FuzzyED(token = token, confidence_levels = True)\n",
        "    similarity_score = Similarity(token = token, dictionary = dictionary, min_ratio = fuzzy_ratio)\n",
        "    if not similarity_score == None:\n",
        "        print(\"'\" + token + \"'\" + \" matches with \" + str(similarity_score[0]) + \"[\" + similarity_score[2] + \"]\" + \" with a score of: \" + str(similarity_score[1]))"
      ],
      "execution_count": 114,
      "outputs": [
        {
          "output_type": "stream",
          "name": "stdout",
          "text": [
            "'insurence' matches with insurance[category1] with a score of: 89\n",
            "'libertey' matches with liberty[category2] with a score of: 93\n"
          ]
        }
      ]
    },
    {
      "cell_type": "code",
      "metadata": {
        "colab": {
          "base_uri": "https://localhost:8080/"
        },
        "id": "V3iqJPH2hIhQ",
        "outputId": "a661891a-da87-4902-bfd1-0a0feecbbec9"
      },
      "source": [
        "choices = [\"Atlanta Falcons\", \"New York Jets\", \"New York Giants\", \"Dallas Cowboys\"]\n",
        "extractOne('cowboys',choices,cal_ratio,2)"
      ],
      "execution_count": 115,
      "outputs": [
        {
          "output_type": "execute_result",
          "data": {
            "text/plain": [
              "('Dallas Cowboys', 57)"
            ]
          },
          "metadata": {},
          "execution_count": 115
        }
      ]
    },
    {
      "cell_type": "code",
      "source": [
        "def get_ratio(row):\n",
        "    name = row['Expedia']\n",
        "    name1 = row['Booking.com']\n",
        "    return cal_ratio(name, name1)\n",
        "\n",
        "df[df.apply(get_ratio, axis=1) > 70].head(10)"
      ],
      "metadata": {
        "colab": {
          "base_uri": "https://localhost:8080/",
          "height": 363
        },
        "id": "NVZ8TlK8x-Tx",
        "outputId": "1dcd8ede-3403-476d-acf4-271b57d13975"
      },
      "execution_count": 116,
      "outputs": [
        {
          "output_type": "execute_result",
          "data": {
            "text/html": [
              "<div>\n",
              "<style scoped>\n",
              "    .dataframe tbody tr th:only-of-type {\n",
              "        vertical-align: middle;\n",
              "    }\n",
              "\n",
              "    .dataframe tbody tr th {\n",
              "        vertical-align: top;\n",
              "    }\n",
              "\n",
              "    .dataframe thead th {\n",
              "        text-align: right;\n",
              "    }\n",
              "</style>\n",
              "<table border=\"1\" class=\"dataframe\">\n",
              "  <thead>\n",
              "    <tr style=\"text-align: right;\">\n",
              "      <th></th>\n",
              "      <th>Expedia</th>\n",
              "      <th>Booking.com</th>\n",
              "    </tr>\n",
              "  </thead>\n",
              "  <tbody>\n",
              "    <tr>\n",
              "      <th>2</th>\n",
              "      <td>Grand Corner King Room, 1 King Bed</td>\n",
              "      <td>Grand Corner King Room</td>\n",
              "    </tr>\n",
              "    <tr>\n",
              "      <th>4</th>\n",
              "      <td>High-Floor Premium Room, 1 King Bed</td>\n",
              "      <td>High-Floor Premium King Room</td>\n",
              "    </tr>\n",
              "    <tr>\n",
              "      <th>9</th>\n",
              "      <td>Room, 2 Double Beds (19th to 25th Floors)</td>\n",
              "      <td>Two Double Beds - Location Room (19th to 25th ...</td>\n",
              "    </tr>\n",
              "    <tr>\n",
              "      <th>11</th>\n",
              "      <td>Deluxe Room</td>\n",
              "      <td>Deluxe Double Room</td>\n",
              "    </tr>\n",
              "    <tr>\n",
              "      <th>13</th>\n",
              "      <td>Signature Room, 2 Queen Beds</td>\n",
              "      <td>Signature Two Queen</td>\n",
              "    </tr>\n",
              "    <tr>\n",
              "      <th>19</th>\n",
              "      <td>Club Room, Premium 2 Queen Beds</td>\n",
              "      <td>Club Premium Two Queen</td>\n",
              "    </tr>\n",
              "    <tr>\n",
              "      <th>25</th>\n",
              "      <td>Deluxe Room, 1 King Bed</td>\n",
              "      <td>Deluxe Room - One King Bed</td>\n",
              "    </tr>\n",
              "    <tr>\n",
              "      <th>26</th>\n",
              "      <td>Deluxe Room, 2 Queen Beds</td>\n",
              "      <td>Deluxe Room - Two Queen Beds</td>\n",
              "    </tr>\n",
              "    <tr>\n",
              "      <th>45</th>\n",
              "      <td>Business Double Room, 2 Double Beds</td>\n",
              "      <td>Business Double Room With Two Double Beds</td>\n",
              "    </tr>\n",
              "    <tr>\n",
              "      <th>46</th>\n",
              "      <td>Room, 2 Queen Beds, City View</td>\n",
              "      <td>Queen Room With Two Queen Beds and City View</td>\n",
              "    </tr>\n",
              "  </tbody>\n",
              "</table>\n",
              "</div>"
            ],
            "text/plain": [
              "                                      Expedia                                        Booking.com\n",
              "2          Grand Corner King Room, 1 King Bed                             Grand Corner King Room\n",
              "4         High-Floor Premium Room, 1 King Bed                       High-Floor Premium King Room\n",
              "9   Room, 2 Double Beds (19th to 25th Floors)  Two Double Beds - Location Room (19th to 25th ...\n",
              "11                                Deluxe Room                                 Deluxe Double Room\n",
              "13               Signature Room, 2 Queen Beds                                Signature Two Queen\n",
              "19            Club Room, Premium 2 Queen Beds                             Club Premium Two Queen\n",
              "25                    Deluxe Room, 1 King Bed                         Deluxe Room - One King Bed\n",
              "26                  Deluxe Room, 2 Queen Beds                       Deluxe Room - Two Queen Beds\n",
              "45        Business Double Room, 2 Double Beds          Business Double Room With Two Double Beds\n",
              "46              Room, 2 Queen Beds, City View       Queen Room With Two Queen Beds and City View"
            ]
          },
          "metadata": {},
          "execution_count": 116
        }
      ]
    },
    {
      "cell_type": "code",
      "metadata": {
        "id": "BNIEyK_moHit"
      },
      "source": [
        "score = len(df[df.apply(get_ratio, axis=1) > 70]) / len(df)"
      ],
      "execution_count": 117,
      "outputs": []
    },
    {
      "cell_type": "code",
      "source": [
        ""
      ],
      "metadata": {
        "id": "MR6VqS3-0o6D"
      },
      "execution_count": 98,
      "outputs": []
    }
  ]
}